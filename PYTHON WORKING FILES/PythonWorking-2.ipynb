{
  "cells": [
    {
      "cell_type": "code",
      "execution_count": null,
      "metadata": {
        "colab": {
          "base_uri": "https://localhost:8080/"
        },
        "id": "0jeZVHN4TRFf",
        "outputId": "013a864c-d90e-43de-b774-d3b076c19707"
      },
      "outputs": [
        {
          "name": "stdout",
          "output_type": "stream",
          "text": [
            "ıraşab\n"
          ]
        }
      ],
      "source": [
        "x = \"başarı\"\n",
        "print(x[::-1])"
      ]
    },
    {
      "cell_type": "code",
      "execution_count": null,
      "metadata": {
        "colab": {
          "base_uri": "https://localhost:8080/"
        },
        "id": "FFhLPjCZUGVD",
        "outputId": "67cf5419-68b3-4e92-d3ac-6831a7f2de00"
      },
      "outputs": [
        {
          "name": "stdout",
          "output_type": "stream",
          "text": [
            "love\n",
            "<class 'str'>\n"
          ]
        }
      ],
      "source": [
        "try_tuple = ('love')\n",
        "\n",
        "print(try_tuple)\n",
        "\n",
        "print(type(try_tuple)) "
      ]
    },
    {
      "cell_type": "code",
      "execution_count": null,
      "metadata": {
        "colab": {
          "base_uri": "https://localhost:8080/"
        },
        "id": "KMqks5A7V3XE",
        "outputId": "0d25af95-4509-428f-fde8-dcf939d10aed"
      },
      "outputs": [
        {
          "name": "stdout",
          "output_type": "stream",
          "text": [
            "<class 'list'> [1, 4, 3, 4, 5, 6, 7, 4]\n"
          ]
        }
      ],
      "source": [
        "my_tuple=(1, 4, 3, 4, 5, 6, 7, 4)\n",
        "\n",
        "my_list = list(my_tuple)\n",
        "\n",
        "print(type(my_list), my_list)"
      ]
    },
    {
      "cell_type": "code",
      "execution_count": null,
      "metadata": {
        "colab": {
          "base_uri": "https://localhost:8080/"
        },
        "id": "4v9PbMPvXPs9",
        "outputId": "baec637d-b91a-46c5-d7bc-a044046e76c7"
      },
      "outputs": [
        {
          "name": "stdout",
          "output_type": "stream",
          "text": [
            "('A', 'l', 'p', 's')\n"
          ]
        }
      ],
      "source": [
        "mountain = tuple('Alps')\n",
        "print(mountain) "
      ]
    },
    {
      "cell_type": "code",
      "execution_count": null,
      "metadata": {
        "colab": {
          "base_uri": "https://localhost:8080/"
        },
        "id": "kE-p9x0MZF7f",
        "outputId": "83fa4bc7-ec9b-4d8c-e272-c7202d7f3ae4"
      },
      "outputs": [
        {
          "data": {
            "text/plain": [
              "1605.78147647843"
            ]
          },
          "execution_count": 21,
          "metadata": {
            "tags": []
          },
          "output_type": "execute_result"
        }
      ],
      "source": [
        "t = 1000\n",
        "t += t*0.07\n",
        "t += t*0.07\n",
        "t += t*0.07\n",
        "t += t*0.07\n",
        "t += t*0.07\n",
        "t += t*0.07\n",
        "t += t*0.07\n",
        "t\n",
        "\n"
      ]
    },
    {
      "cell_type": "code",
      "execution_count": null,
      "metadata": {
        "colab": {
          "base_uri": "https://localhost:8080/"
        },
        "id": "cnJq4sEKOCtz",
        "outputId": "60babc10-34f2-4fd2-90c2-cabeb9574240"
      },
      "outputs": [
        {
          "data": {
            "text/plain": [
              "536870912000"
            ]
          },
          "execution_count": 7,
          "metadata": {
            "tags": []
          },
          "output_type": "execute_result"
        }
      ],
      "source": [
        "toplam = 1000\n",
        "toplam = toplam*2\n",
        "toplam = toplam*2\n",
        "toplam = toplam*2\n",
        "toplam = toplam*2\n",
        "toplam = toplam*2\n",
        "toplam = toplam*2\n",
        "toplam = toplam*2\n",
        "toplam = toplam*2\n",
        "toplam = toplam*2\n",
        "toplam = toplam*2\n",
        "toplam = toplam*2\n",
        "toplam = toplam*2\n",
        "toplam = toplam*2\n",
        "toplam = toplam*2\n",
        "toplam = toplam*2\n",
        "toplam = toplam*2\n",
        "toplam = toplam*2\n",
        "toplam = toplam*2\n",
        "toplam = toplam*2\n",
        "toplam = toplam*2\n",
        "toplam = toplam*2\n",
        "toplam = toplam*2\n",
        "toplam = toplam*2\n",
        "toplam = toplam*2\n",
        "toplam = toplam*2\n",
        "toplam = toplam*2\n",
        "toplam = toplam*2\n",
        "toplam = toplam*2\n",
        "toplam = toplam*2\n",
        "toplam\n",
        "\n",
        "\n"
      ]
    },
    {
      "cell_type": "code",
      "execution_count": null,
      "metadata": {
        "colab": {
          "base_uri": "https://localhost:8080/"
        },
        "id": "eQc_-_UvOnoA",
        "outputId": "93a28c5e-f2b6-4bb3-a91c-8e2362b738f3"
      },
      "outputs": [
        {
          "data": {
            "text/plain": [
              "536870912000"
            ]
          },
          "execution_count": 9,
          "metadata": {
            "tags": []
          },
          "output_type": "execute_result"
        }
      ],
      "source": [
        "toplam = 1000\n",
        "toplam = toplam*2**29\n",
        "toplam\n"
      ]
    },
    {
      "cell_type": "code",
      "execution_count": null,
      "metadata": {
        "colab": {
          "base_uri": "https://localhost:8080/"
        },
        "id": "JivoSsguVdH1",
        "outputId": "61677700-4fb7-40f3-a403-4c6379ef2386"
      },
      "outputs": [
        {
          "data": {
            "text/plain": [
              "1.6057814764784306"
            ]
          },
          "execution_count": 12,
          "metadata": {
            "tags": []
          },
          "output_type": "execute_result"
        }
      ],
      "source": [
        "1.07**7"
      ]
    },
    {
      "cell_type": "code",
      "execution_count": 2,
      "metadata": {
        "colab": {
          "base_uri": "https://localhost:8080/"
        },
        "id": "hzmTj5Xxd7Oh",
        "outputId": "e037a444-0c48-4a4a-9dc5-97bff0aa471a"
      },
      "outputs": [
        {
          "name": "stdout",
          "output_type": "stream",
          "text": [
            "['a']\n"
          ]
        }
      ],
      "source": [
        "a = []\n",
        "a.append('a')\n",
        "print(a)"
      ]
    },
    {
      "cell_type": "code",
      "execution_count": 3,
      "metadata": {
        "colab": {
          "base_uri": "https://localhost:8080/"
        },
        "id": "juMFj3p6i-8h",
        "outputId": "f276b778-1da8-45f6-ad74-0d6ba9c80771"
      },
      "outputs": [
        {
          "name": "stdout",
          "output_type": "stream",
          "text": [
            "['a']\n",
            "[]\n",
            "[[]]\n",
            "1\n",
            "0\n",
            "1\n"
          ]
        }
      ],
      "source": [
        "a, b, c = [], [], [[]]\n",
        "a.append('a')\n",
        "print(a)\n",
        "print(b)\n",
        "print(c)\n",
        "print(len(a))\n",
        "print(len(b))\n",
        "print(len(c))"
      ]
    },
    {
      "cell_type": "code",
      "execution_count": 8,
      "metadata": {
        "colab": {
          "base_uri": "https://localhost:8080/"
        },
        "id": "vMjnN6DWjUzU",
        "outputId": "db475df0-a150-47f0-d645-ce7c1692c20e"
      },
      "outputs": [
        {
          "name": "stdout",
          "output_type": "stream",
          "text": [
            "[1, 2, 3, 4, 5, 6, 7, 8, 9, 10]\n"
          ]
        }
      ],
      "source": [
        "a = [10, 9, 8, 7, 6, 5, 4, 3, 2, 1]\n",
        "a.sort()\n",
        "print(a)\n",
        "\n"
      ]
    },
    {
      "cell_type": "code",
      "execution_count": 10,
      "metadata": {},
      "outputs": [
        {
          "name": "stdout",
          "output_type": "stream",
          "text": [
            "[10, 9, 8, 7, 6, 5, 4, 3, 2, 1]\n"
          ]
        }
      ],
      "source": [
        "a = [1, 2, 3, 4, 5, 6, 7, 8, 9, 10]\n",
        "a.reverse()\n",
        "print(a)"
      ]
    },
    {
      "cell_type": "code",
      "execution_count": null,
      "metadata": {
        "colab": {
          "base_uri": "https://localhost:8080/"
        },
        "id": "raXZHj3vy0oF",
        "outputId": "a1cd22c8-0f62-42c9-bf1c-314bcf9986ee"
      },
      "outputs": [
        {
          "name": "stdout",
          "output_type": "stream",
          "text": [
            "[10, 9, 8, 7, 6, 5, 4, 3, 2, 1]\n"
          ]
        }
      ],
      "source": [
        "a = list(range(1,11))\n",
        "a.sort(reverse=True)\n",
        "print(a)"
      ]
    },
    {
      "cell_type": "code",
      "execution_count": null,
      "metadata": {
        "colab": {
          "base_uri": "https://localhost:8080/"
        },
        "id": "UeZdB7Ox25Qa",
        "outputId": "2ca61846-8de9-4984-9823-c114dd4c7362"
      },
      "outputs": [
        {
          "name": "stdout",
          "output_type": "stream",
          "text": [
            "['eggplant', 'spinach', 'leek']\n"
          ]
        }
      ],
      "source": [
        "grocer = [\"banana\", [\"orange\", [\"apple\", \"eggplant\", \"melon\", \"spinach\", \"cheese\", \"leek\" ], \"water\"], \"mandarin\"]\n",
        "print([grocer[1][1][1],grocer[1][1][3],grocer[1][1][5]])\n"
      ]
    },
    {
      "cell_type": "code",
      "execution_count": null,
      "metadata": {
        "colab": {
          "base_uri": "https://localhost:8080/",
          "height": 35
        },
        "id": "7_QYknWt7EbX",
        "outputId": "8bfe558a-eb78-4b76-ae7b-3def7774a70c"
      },
      "outputs": [
        {
          "data": {
            "application/vnd.google.colaboratory.intrinsic+json": {
              "type": "string"
            },
            "text/plain": [
              "\"My two favorite flowers are ('tulip', 'rose') , two favorite colors are ('blue', 'green').\""
            ]
          },
          "execution_count": 70,
          "metadata": {
            "tags": []
          },
          "output_type": "execute_result"
        }
      ],
      "source": [
        "flowers = [[\"jasmine\", [\"lavender\", \"rose\"], \"tulip\"]]\n",
        "colors = [\"red\", (\"blue\", [\"yellow\", \"green\"]), \"pink\"]\n",
        "text = (\"My two favorite flowers are {} , two favorite colors are {}.\".format((flowers[0][2],flowers[0][1][1]) , (colors[1][0],colors[1][1][1])))\n",
        "text"
      ]
    },
    {
      "cell_type": "code",
      "execution_count": null,
      "metadata": {
        "colab": {
          "base_uri": "https://localhost:8080/"
        },
        "id": "SnBb_AXc9ewq",
        "outputId": "01eaa182-46f0-4685-a57a-e75496509c48"
      },
      "outputs": [
        {
          "name": "stdout",
          "output_type": "stream",
          "text": [
            "My two favorite flowers are tulip and rose, two favorite colors are blue and green.\n"
          ]
        }
      ],
      "source": [
        "7\n",
        "flowers = [[\"jasmine\", [\"lavender\", \"rose\"], \"tulip\"]]\n",
        "colors = [\"red\", (\"blue\", [\"yellow\", \"green\"]), \"pink\"]\n",
        "text = \"My two favorite flowers are {} and {}, two favorite colors are {} and {}.\".format(flowers[0][2], flowers[0][1][1], colors[1][0], colors[1][1][1])\n",
        "print(text)"
      ]
    },
    {
      "cell_type": "code",
      "execution_count": null,
      "metadata": {
        "colab": {
          "base_uri": "https://localhost:8080/"
        },
        "id": "M0bXCScdHNLu",
        "outputId": "e7a8f70d-a570-4b3c-c1d8-a5e5015bc094"
      },
      "outputs": [
        {
          "name": "stdout",
          "output_type": "stream",
          "text": [
            "I am 40 years old.\n",
            "\t' I have two children.'\n",
            "\t\t Data Science is my IT domain.\n"
          ]
        }
      ],
      "source": [
        "\n",
        "sentence = \"I am 40 years old.\\n\\t' I have two children.'\\n\\t\\t Data Science is my IT domain.\"\n",
        "\n",
        "print(sentence)"
      ]
    },
    {
      "cell_type": "code",
      "execution_count": null,
      "metadata": {
        "colab": {
          "base_uri": "https://localhost:8080/"
        },
        "id": "0Piq-xonHjCf",
        "outputId": "f55e0854-5317-47a9-a32c-8e16b6da5baf"
      },
      "outputs": [
        {
          "name": "stdout",
          "output_type": "stream",
          "text": [
            "I am 40 years old.\n",
            "\tI have two children.\n",
            "\t\tData Science is my IT domain.\n"
          ]
        }
      ],
      "source": [
        "escapes = [\"\\n\\t\", (\"\\t\", \"\\t\\t\"), [\"\\n\", \"\\n\\t\\t\"]]\n",
        "sentence = (\"I am 40 years old.{}I have two children.{}Data Science is my IT domain.\".format(escapes[0],escapes[2][1]))\n",
        "print(sentence)"
      ]
    },
    {
      "cell_type": "code",
      "execution_count": null,
      "metadata": {
        "colab": {
          "base_uri": "https://localhost:8080/"
        },
        "id": "1EAKu4U6KuvT",
        "outputId": "c8b20dea-3a5e-4e21-f092-6ddc9308dccf"
      },
      "outputs": [
        {
          "name": "stdout",
          "output_type": "stream",
          "text": [
            "['a', 'b', 'c', 'd', 'e', 'f', 'g', 'h', 'i', 'j', 'k', 'l', 'm', 'n', 'o', 'ö', 'p', 'r', 's', 'ş', 't', 'u', 'ü', 'v', 'y', 'z']\n"
          ]
        }
      ],
      "source": [
        "letter = \"a b c d e f g h i j k l m n o ö p r s ş t u ü v y z\".split()\n",
        "print(letter)"
      ]
    },
    {
      "cell_type": "code",
      "execution_count": null,
      "metadata": {
        "colab": {
          "base_uri": "https://localhost:8080/"
        },
        "id": "RScFJ13NvhOq",
        "outputId": "65f6fb6c-ded0-4757-be19-e9c7f2fd358b"
      },
      "outputs": [
        {
          "name": "stdout",
          "output_type": "stream",
          "text": [
            "{'l', 'y', 's', 'c', 'p', 'o', 'b', 'r', 'd', 'e', 'z', 'n', 'k', 'u', 'j', 'g', 't', 'v', 'a', 'm', 'ü', 'i', 'f', 'ş', 'h', 'ö'}\n"
          ]
        }
      ],
      "source": [
        "print(set(letter))"
      ]
    },
    {
      "cell_type": "code",
      "execution_count": null,
      "metadata": {
        "colab": {
          "base_uri": "https://localhost:8080/"
        },
        "id": "30P3VfryvuyT",
        "outputId": "3f391019-c8af-400a-b973-e5699e63b1c9"
      },
      "outputs": [
        {
          "data": {
            "text/plain": [
              "2"
            ]
          },
          "execution_count": 136,
          "metadata": {
            "tags": []
          },
          "output_type": "execute_result"
        }
      ],
      "source": [
        "test = {1, \"bir\", 1.0}\n",
        "len(test)"
      ]
    },
    {
      "cell_type": "code",
      "execution_count": null,
      "metadata": {
        "colab": {
          "base_uri": "https://localhost:8080/"
        },
        "id": "WmQMeXJEv5Rx",
        "outputId": "86209d47-bb87-43e6-9179-e6fbd43e6dc3"
      },
      "outputs": [
        {
          "data": {
            "text/plain": [
              "{'/', '0', '1', '2', '7'}"
            ]
          },
          "execution_count": 137,
          "metadata": {
            "tags": []
          },
          "output_type": "execute_result"
        }
      ],
      "source": [
        "date = \"12/07/2021\"\n",
        "set(date)"
      ]
    },
    {
      "cell_type": "code",
      "execution_count": null,
      "metadata": {
        "colab": {
          "base_uri": "https://localhost:8080/"
        },
        "id": "xIQinEsPz0RS",
        "outputId": "5da8e8af-33e3-4829-db20-531b1feef55e"
      },
      "outputs": [
        {
          "name": "stdout",
          "output_type": "stream",
          "text": [
            "Bon Appetit!\n"
          ]
        }
      ],
      "source": [
        "minced = True\n",
        "bread = True\n",
        "#green\n",
        "lettuce = True\n",
        "onion = True\n",
        "grocer = True\n",
        "hamburger = ( minced and grocer and bread) and (lettuce or onion)\n",
        "if hamburger :\n",
        "    print(\"Bon Appetit!\")\n",
        "    "
      ]
    },
    {
      "cell_type": "code",
      "execution_count": null,
      "metadata": {
        "colab": {
          "base_uri": "https://localhost:8080/"
        },
        "id": "M1KFHuRV7aKk",
        "outputId": "d68d1cb0-412e-44dc-95e4-1be7c6f270b1"
      },
      "outputs": [
        {
          "name": "stdout",
          "output_type": "stream",
          "text": [
            "enter a word : oguzhan\n",
            "true\n"
          ]
        }
      ],
      "source": [
        "r = {'q', 'w', 'e', 'r', 't', 'a', 's', 'd', 'f', 'g', 'z', 'x', 'c', 'v', 'b'}\n",
        "l = {'y', 'u', 'i', 'o','p', 'h', 'j', 'k', 'l', 'n', 'm'}\n",
        "w = set(input(\"enter a word : \"))\n",
        "if (w & r) and (w & l):\n",
        " print('true')\n",
        "else:\n",
        " print('false')"
      ]
    },
    {
      "cell_type": "code",
      "execution_count": null,
      "metadata": {
        "colab": {
          "base_uri": "https://localhost:8080/"
        },
        "id": "-Pd9flaf77Xc",
        "outputId": "4edfa511-c28b-4e8c-c85d-b80c04fa37a7"
      },
      "outputs": [
        {
          "data": {
            "text/plain": [
              "[10, 20, 30, 40, 50, 60, 70, 80, 90, 100]"
            ]
          },
          "execution_count": 1,
          "metadata": {
            "tags": []
          },
          "output_type": "execute_result"
        }
      ],
      "source": [
        "numbers_10 = [10, 30, 40, 50, 60, 70, 80, 90, 100]\n",
        "numbers_10.insert(1,20)\n",
        "numbers_10"
      ]
    },
    {
      "cell_type": "code",
      "execution_count": null,
      "metadata": {
        "colab": {
          "base_uri": "https://localhost:8080/"
        },
        "id": "_j4IIHY7qNsA",
        "outputId": "696948d0-5fbd-46d2-9fbf-5e947d8bcbc1"
      },
      "outputs": [
        {
          "name": "stdout",
          "output_type": "stream",
          "text": [
            "rnbıvdfnvşl : 85 \n"
          ]
        }
      ],
      "source": [
        "x = 85\n",
        "if x >= 85: \n",
        "   print('rnbıvdfnvşl : %s ' % x )\n"
      ]
    },
    {
      "cell_type": "code",
      "execution_count": null,
      "metadata": {
        "id": "ZruaK2mCg8Mp"
      },
      "outputs": [],
      "source": []
    }
  ],
  "metadata": {
    "colab": {
      "collapsed_sections": [],
      "name": "FreeWorking2.ipynb",
      "provenance": []
    },
    "kernelspec": {
      "display_name": "Python 3",
      "name": "python3"
    },
    "language_info": {
      "codemirror_mode": {
        "name": "ipython",
        "version": 3
      },
      "file_extension": ".py",
      "mimetype": "text/x-python",
      "name": "python",
      "nbconvert_exporter": "python",
      "pygments_lexer": "ipython3",
      "version": "3.10.0"
    }
  },
  "nbformat": 4,
  "nbformat_minor": 0
}
