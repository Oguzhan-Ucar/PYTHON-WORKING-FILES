{
 "cells": [
  {
   "cell_type": "code",
   "execution_count": 1,
   "id": "312fb351",
   "metadata": {},
   "outputs": [
    {
     "name": "stdout",
     "output_type": "stream",
     "text": [
      "dict_items([('animal', 'dog'), ('planet', 'neptun'), ('number', 40), ('pi', 3.14), ('is_good', True)]) \n",
      "\n",
      "dict_keys(['animal', 'planet', 'number', 'pi', 'is_good']) \n",
      "\n",
      "dict_values(['dog', 'neptun', 40, 3.14, True])\n"
     ]
    }
   ],
   "source": [
    "dict_by_dict = {'animal': 'dog',\n",
    "                'planet': 'neptun',\n",
    "                'number': 40,\n",
    "                'pi': 3.14,\n",
    "                'is_good': True}\n",
    "\n",
    "print(dict_by_dict.items(), '\\n')\n",
    "print(dict_by_dict.keys(), '\\n')\n",
    "print(dict_by_dict.values())"
   ]
  },
  {
   "cell_type": "code",
   "execution_count": 12,
   "id": "a736c4f8",
   "metadata": {},
   "outputs": [
    {
     "name": "stdout",
     "output_type": "stream",
     "text": [
      "{'Harry': 29, 'Peter': 22, 'Bruce': 36}\n"
     ]
    }
   ],
   "source": [
    "Student_ages = {\"Harry\": 29, \n",
    "                \"Clark\": 32, \n",
    "                \"Peter\": 22, \n",
    "                \"Bruce\": 36 \n",
    "                }\n",
    "del Student_ages[\"Clark\"]\n",
    "print(Student_ages)"
   ]
  },
  {
   "cell_type": "code",
   "execution_count": 13,
   "id": "7c681a19",
   "metadata": {},
   "outputs": [
    {
     "name": "stdout",
     "output_type": "stream",
     "text": [
      "{'Harry': '88', 'Clark': 32, 'Peter': 22, 'Bruce': 36}\n"
     ]
    }
   ],
   "source": [
    "Student_ages = {\"Harry\": 29, \n",
    "                \"Clark\": 32, \n",
    "                \"Peter\": 22, \n",
    "                \"Bruce\": 36 \n",
    "                }\n",
    "Student_ages[\"Harry\"] = \"88\"\n",
    "print(Student_ages)"
   ]
  },
  {
   "cell_type": "code",
   "execution_count": 14,
   "id": "90482a34",
   "metadata": {},
   "outputs": [
    {
     "name": "stdout",
     "output_type": "stream",
     "text": [
      "{'Harry': '88', 'Clark': 32, 'Peter': 22, 'Bruce': 36, 'is_bad': False}\n"
     ]
    }
   ],
   "source": [
    "Student_ages.update({'is_bad': False})\n",
    "print(Student_ages)"
   ]
  },
  {
   "cell_type": "code",
   "execution_count": 15,
   "id": "1a88782e",
   "metadata": {},
   "outputs": [
    {
     "name": "stdout",
     "output_type": "stream",
     "text": [
      "16\n"
     ]
    }
   ],
   "source": [
    "\n",
    "school_records={\n",
    "    \"personal_info\":\n",
    "        {\"kid\":{\"tom\": {\"class\":\"intermediate\", \"age\":10},\n",
    "                \"sue\": {\"class\":\"elementary\", \"age\":8}\n",
    "               },\n",
    "         \"teen\":{\"joseph\":{\"class\":\"college\", \"age\":19},\n",
    "                 \"marry\":{\"class\":\"high school\", \"age\":16}\n",
    "               },               \n",
    "        },\n",
    "}\n",
    "\n",
    "print(school_records['personal_info']['teen']['marry']['age'])\n",
    "\n"
   ]
  },
  {
   "cell_type": "code",
   "execution_count": 16,
   "id": "266b1976",
   "metadata": {},
   "outputs": [
    {
     "name": "stdout",
     "output_type": "stream",
     "text": [
      "True\n",
      "True\n"
     ]
    }
   ],
   "source": [
    "dict_by_dict = {'planet': 'neptun',\n",
    "               'number': 40,\n",
    "               'pi': 3.14,\n",
    "               'is_good': True,\n",
    "               'is_bad': False}\n",
    "\n",
    "print('pi' in dict_by_dict) \n",
    "print('animal' not in dict_by_dict)  # remember, we have deleted 'animal'\n"
   ]
  },
  {
   "cell_type": "code",
   "execution_count": 19,
   "id": "cfa6a282",
   "metadata": {},
   "outputs": [
    {
     "name": "stdout",
     "output_type": "stream",
     "text": [
      "{'b', 'd', 'r', 'a'}\n"
     ]
    }
   ],
   "source": [
    "a = {'b', 'd', 'r', 'c', 'a'}\n",
    "a.remove('c') # we delete 'c' from the set\n",
    "print(a)\n"
   ]
  },
  {
   "cell_type": "code",
   "execution_count": 21,
   "id": "c6c93cff",
   "metadata": {},
   "outputs": [
    {
     "name": "stdout",
     "output_type": "stream",
     "text": [
      "True\n"
     ]
    }
   ],
   "source": [
    "a = {'b', 'd', 'r', 'c', 'a'}\n",
    "print('b' in a)"
   ]
  },
  {
   "cell_type": "code",
   "execution_count": 22,
   "id": "c3bf3545",
   "metadata": {},
   "outputs": [
    {
     "name": "stdout",
     "output_type": "stream",
     "text": [
      "13\n"
     ]
    }
   ],
   "source": [
    "print(len(set('listen to the voice of enlisted')))"
   ]
  },
  {
   "cell_type": "code",
   "execution_count": 28,
   "id": "f95f68ad",
   "metadata": {},
   "outputs": [
    {
     "name": "stdout",
     "output_type": "stream",
     "text": [
      "{'b', 'd', 'r', 'c', 'a', 's'}\n"
     ]
    }
   ],
   "source": [
    "a = {'b', 'd', 'r', 'c', 'a'}\n",
    "a.add('s')\n",
    "print(a)"
   ]
  },
  {
   "cell_type": "code",
   "execution_count": 41,
   "id": "6033edbf",
   "metadata": {},
   "outputs": [
    {
     "data": {
      "text/plain": [
       "{'a', 'b', 'c', 'd', 'r', 's'}"
      ]
     },
     "execution_count": 41,
     "metadata": {},
     "output_type": "execute_result"
    }
   ],
   "source": [
    "a = {'b', 'd', 'r', 'c', 'a'}\n",
    "a.update({'s'})\n",
    "a"
   ]
  },
  {
   "cell_type": "code",
   "execution_count": 55,
   "id": "0796708f",
   "metadata": {},
   "outputs": [
    {
     "name": "stdout",
     "output_type": "stream",
     "text": [
      "{'x': 12, 'y': 4, 'z': 3}\n",
      "25\n"
     ]
    }
   ],
   "source": [
    "numbers = {}\n",
    "\n",
    "numbers['x'] = 12\n",
    "numbers['y'] = 4\n",
    "numbers.update({'z': 3})\n",
    "print(numbers)\n",
    "print(numbers['x'] + numbers['y'] + numbers['z']**2)"
   ]
  },
  {
   "cell_type": "code",
   "execution_count": 56,
   "id": "e38aa653",
   "metadata": {},
   "outputs": [
    {
     "data": {
      "text/plain": [
       "{10, 30, 40, 50, 60, 70, 80, 90, 100}"
      ]
     },
     "execution_count": 56,
     "metadata": {},
     "output_type": "execute_result"
    }
   ],
   "source": [
    "numbers_10 = [10, 30, 40, 50, 60, 70, 80, 90, 100]\n",
    "set(numbers_10)"
   ]
  },
  {
   "cell_type": "code",
   "execution_count": 69,
   "id": "2c45e1c3",
   "metadata": {},
   "outputs": [
    {
     "data": {
      "text/plain": [
       "[10, 20, 30, 40, 50, 60, 70, 80, 90, 100]"
      ]
     },
     "execution_count": 69,
     "metadata": {},
     "output_type": "execute_result"
    }
   ],
   "source": [
    "numbers_10 = [10, 30, 40, 50, 60, 70, 80, 90, 100]\n",
    "numbers_10.insert(1,20)\n",
    "numbers_10"
   ]
  },
  {
   "cell_type": "code",
   "execution_count": 70,
   "id": "5820c067",
   "metadata": {},
   "outputs": [
    {
     "name": "stdout",
     "output_type": "stream",
     "text": [
      "spinach\n"
     ]
    }
   ],
   "source": [
    "fruits_vegetables = [\"fruit\", \"vegetable\", [\"apple\", \"banana\", [\"mango\", \"avocado\"]], [\"spinach\", \"broccoli\"]]\n",
    "print(fruits_vegetables[3][0])"
   ]
  },
  {
   "cell_type": "code",
   "execution_count": 78,
   "id": "c0d2b992",
   "metadata": {},
   "outputs": [
    {
     "name": "stdout",
     "output_type": "stream",
     "text": [
      "<class 'tuple'>\n"
     ]
    }
   ],
   "source": [
    "family_members = ('Meghan', 'Tom', 'Nicole', 'Tim')\n",
    "print(type(family_members))"
   ]
  },
  {
   "cell_type": "code",
   "execution_count": 79,
   "id": "6db4153f",
   "metadata": {},
   "outputs": [
    {
     "name": "stdout",
     "output_type": "stream",
     "text": [
      "is x equal to y?                 : False\n",
      "is x not equal to y?             : True\n",
      "is x less than y?                : True\n",
      "is x greater than y?             : False\n",
      "is x less than or equal to y?    : True\n",
      "is x greater than or equal to y? : False\n"
     ]
    }
   ],
   "source": [
    "x = 6\n",
    "y = 9\n",
    "print (\"is x equal to y?                 :\" , x == y)\n",
    "print (\"is x not equal to y?             :\" , x != y)\n",
    "print (\"is x less than y?                :\" , x < y)\n",
    "print (\"is x greater than y?             :\" , x > y)\n",
    "print (\"is x less than or equal to y?    :\" , x <= y)\n",
    "print (\"is x greater than or equal to y? :\" , x >= y)"
   ]
  },
  {
   "cell_type": "code",
   "execution_count": 2,
   "id": "3d9829a5",
   "metadata": {},
   "outputs": [
    {
     "name": "stdout",
     "output_type": "stream",
     "text": [
      "The number is equal or greater than 10\n"
     ]
    }
   ],
   "source": [
    "number = 10\n",
    "if number >= 10 :\n",
    "    print('The number is equal or greater than 10')\n",
    "else :\n",
    "    print( 'The number is less than 10')"
   ]
  },
  {
   "cell_type": "code",
   "execution_count": 1,
   "id": "b5144896",
   "metadata": {},
   "outputs": [
    {
     "name": "stdout",
     "output_type": "stream",
     "text": [
      "square of 0 is : 0\n",
      "square of 1 is : 1\n",
      "square of 2 is : 4\n",
      "square of 3 is : 9\n",
      "square of 4 is : 16\n"
     ]
    }
   ],
   "source": [
    "my_list=[\"a\", \"b\", \"c\", \"d\", \"e\"]\n",
    "\n",
    "a = 0\n",
    "\n",
    "while a < len(my_list):\n",
    "    print('square of {} is : {}'.format(a, a**2))\n",
    "    a+=1\n"
   ]
  },
  {
   "cell_type": "code",
   "execution_count": 2,
   "id": "7ff613c6",
   "metadata": {},
   "outputs": [
    {
     "name": "stdout",
     "output_type": "stream",
     "text": [
      "Let's play the guessing game!\n",
      "What number am I thinking of?  55\n",
      "Little lower\n",
      "What number am I thinking of?  43\n",
      "Little higher\n",
      "What number am I thinking of?  42\n",
      "Little higher\n",
      "What number am I thinking of?  87\n",
      "Little lower\n",
      "What number am I thinking of?  44\n",
      "Are you a MINDREADER!!!\n"
     ]
    }
   ],
   "source": [
    "answer = 44\n",
    "\n",
    "question = 'What number am I thinking of?  '\n",
    "print (\"Let's play the guessing game!\")\n",
    "\n",
    "while True:\n",
    "    guess = int(input(question))\n",
    "\n",
    "    if guess < answer:\n",
    "        print('Little higher')\n",
    "    elif guess > answer:\n",
    "        print('Little lower')\n",
    "    else:  # guess == answer\n",
    "        print('Are you a MINDREADER!!!')\n",
    "        break"
   ]
  },
  {
   "cell_type": "code",
   "execution_count": 3,
   "id": "f0d764d4",
   "metadata": {},
   "outputs": [
    {
     "data": {
      "text/plain": [
       "3"
      ]
     },
     "execution_count": 3,
     "metadata": {},
     "output_type": "execute_result"
    }
   ],
   "source": [
    "flowers = ['Rose', 'Orchid', 'Tulip']\n",
    "len(flowers)"
   ]
  },
  {
   "cell_type": "code",
   "execution_count": 5,
   "id": "cea865d5",
   "metadata": {},
   "outputs": [
    {
     "data": {
      "text/plain": [
       "4"
      ]
     },
     "execution_count": 5,
     "metadata": {},
     "output_type": "execute_result"
    }
   ],
   "source": [
    "flowers = ['Rose', 'Orchid', 'Tulip']\n",
    "count1 = len('Rose')\n",
    "count1"
   ]
  },
  {
   "cell_type": "code",
   "execution_count": 17,
   "id": "0e01c092",
   "metadata": {},
   "outputs": [
    {
     "name": "stdout",
     "output_type": "stream",
     "text": [
      "Rose\n",
      "Orchid\n",
      "Tulip\n"
     ]
    }
   ],
   "source": [
    "flowers = ['Rose', 'Orchid', 'Tulip']\n",
    "count1 = len(flowers)\n",
    "\n",
    "\n",
    "while count1 > 0 : \n",
    "    print(flowers[0],flowers[1],flowers[2],sep='\\n')\n",
    "    count1 -= 3"
   ]
  },
  {
   "cell_type": "code",
   "execution_count": 18,
   "id": "fbee3527",
   "metadata": {},
   "outputs": [
    {
     "name": "stdout",
     "output_type": "stream",
     "text": [
      "n1\n",
      "n2\n"
     ]
    }
   ],
   "source": [
    "for i in {'n1' : 'one', 'n2' : 'two'} : \n",
    "    print(i)"
   ]
  },
  {
   "cell_type": "code",
   "execution_count": 38,
   "id": "13374bff",
   "metadata": {},
   "outputs": [
    {
     "name": "stdout",
     "output_type": "stream",
     "text": [
      "1\n",
      "4\n",
      "9\n",
      "16\n"
     ]
    }
   ],
   "source": [
    "iterable = [1, 2, 3, 4]\n",
    "for i in iterable :\n",
    "    print(i**2)"
   ]
  },
  {
   "cell_type": "code",
   "execution_count": 40,
   "id": "ab8807c3",
   "metadata": {},
   "outputs": [
    {
     "name": "stdout",
     "output_type": "stream",
     "text": [
      "1\n",
      "8\n",
      "27\n",
      "64\n",
      "125\n"
     ]
    }
   ],
   "source": [
    "for i in [1, 2, 3, 4, 5] :\n",
    "    print(i**3)"
   ]
  },
  {
   "cell_type": "code",
   "execution_count": 44,
   "id": "8e3f4966",
   "metadata": {
    "scrolled": true
   },
   "outputs": [
    {
     "name": "stdout",
     "output_type": "stream",
     "text": [
      "enter a number between 1-103\n",
      "3x0 =  0\n",
      "3x1 =  3\n",
      "3x2 =  6\n",
      "3x3 =  9\n",
      "3x4 =  12\n",
      "3x5 =  15\n",
      "3x6 =  18\n",
      "3x7 =  21\n",
      "3x8 =  24\n",
      "3x9 =  27\n",
      "3x10 =  30\n"
     ]
    }
   ],
   "source": [
    "n = int(input('enter a number between 1-10'))\n",
    "\n",
    "for i in range(11):\n",
    "    print('{}x{} = '.format(n, i), n*i)"
   ]
  },
  {
   "cell_type": "code",
   "execution_count": 42,
   "id": "48f6687e",
   "metadata": {},
   "outputs": [
    {
     "name": "stdout",
     "output_type": "stream",
     "text": [
      "How many times should I say 'I love you'3\n",
      "I love you\n",
      "I love you\n",
      "I love you\n"
     ]
    }
   ],
   "source": [
    "times = int(input(\"How many times should I say 'I love you'\"))\n",
    "\n",
    "for i in range(times):\n",
    "    print('I love you')\n"
   ]
  },
  {
   "cell_type": "code",
   "execution_count": 57,
   "id": "3d8adaf0",
   "metadata": {},
   "outputs": [
    {
     "name": "stdout",
     "output_type": "stream",
     "text": [
      "enter a number between 1-105\n",
      " 0  \n",
      " 5  \n",
      " 10  \n",
      " 15  \n",
      " 20  \n",
      " 25  \n",
      " 30  \n",
      " 35  \n",
      " 40  \n",
      " 45  \n",
      " 50  \n"
     ]
    }
   ],
   "source": [
    "n = int(input('enter a number between 1-10'))\n",
    "\n",
    "for i in range(11):\n",
    "    answer = ' %d  ' % (n*i)\n",
    "    print(answer)"
   ]
  },
  {
   "cell_type": "code",
   "execution_count": 3,
   "id": "776859b9",
   "metadata": {},
   "outputs": [
    {
     "name": "stdout",
     "output_type": "stream",
     "text": [
      "Enter your score :88\n",
      "Your degree: B+\n"
     ]
    }
   ],
   "source": [
    "score = int (input(\"Enter your score :\"))\n",
    "\n",
    "if score >= 90:\n",
    "    if score >= 95:\n",
    "        Score_letter=\"A+\"\n",
    "    else:\n",
    "        Score_letter=\"A\"\n",
    "elif score >= 80:\n",
    "    if score >= 85:\n",
    "        Score_letter=\"B+\"\n",
    "    else:\n",
    "        Score_letter=\"B\"\n",
    "else:\n",
    "    Score_letter=\"below B\"\n",
    "\n",
    "print (\"Your degree: %s\" % Score_letter)"
   ]
  },
  {
   "cell_type": "code",
   "execution_count": 2,
   "id": "15d6eff8",
   "metadata": {},
   "outputs": [
    {
     "name": "stdout",
     "output_type": "stream",
     "text": [
      "10 8 6 4 2\n"
     ]
    }
   ],
   "source": [
    "x = (range(10,0,-2))\n",
    "print(*x)"
   ]
  },
  {
   "cell_type": "code",
   "execution_count": 9,
   "id": "37275710",
   "metadata": {},
   "outputs": [
    {
     "name": "stdout",
     "output_type": "stream",
     "text": [
      "I am  : happy\n",
      "You are  : confident\n"
     ]
    }
   ],
   "source": [
    "who = ['I am ', 'You are ']\n",
    "mood = ['happy', 'confident']\n",
    "for i,ii in zip(who, mood):\n",
    "        print(i,':',ii)"
   ]
  },
  {
   "cell_type": "code",
   "execution_count": 4,
   "id": "b42138c9",
   "metadata": {},
   "outputs": [
    {
     "name": "stdout",
     "output_type": "stream",
     "text": [
      "I am  + happy\n",
      "You are  + confident\n"
     ]
    }
   ],
   "source": [
    "who = ['I am ', 'You are ']\n",
    "mood = ['happy', 'confident']\n",
    "for i,ii in zip(who, mood):\n",
    "        print(i, '+' ,ii)"
   ]
  },
  {
   "cell_type": "code",
   "execution_count": 15,
   "id": "736522f1",
   "metadata": {},
   "outputs": [
    {
     "name": "stdout",
     "output_type": "stream",
     "text": [
      "I am happy\n",
      "I am confident\n",
      "You are happy\n",
      "You are confident\n"
     ]
    }
   ],
   "source": [
    "who = ['I am ', 'You are ']\n",
    "mood = ['happy', 'confident']\n",
    "for i in who:\n",
    "    for ii in mood:\n",
    "        print(i + ii)"
   ]
  },
  {
   "cell_type": "code",
   "execution_count": 3,
   "id": "f9c76f39",
   "metadata": {},
   "outputs": [
    {
     "name": "stdout",
     "output_type": "stream",
     "text": [
      "I am happy asd\n",
      "I am happy qwe\n",
      "I am confident asd\n",
      "I am confident qwe\n",
      "You are happy asd\n",
      "You are happy qwe\n",
      "You are confident asd\n",
      "You are confident qwe\n"
     ]
    }
   ],
   "source": [
    "who = ['I am ', 'You are ']\n",
    "mood = ['happy ', 'confident ']\n",
    "x = ['asd', 'qwe']\n",
    "for i in who:\n",
    "    for ii in mood:\n",
    "        for iii in x:\n",
    "            print(i + ii + iii)"
   ]
  },
  {
   "cell_type": "code",
   "execution_count": 12,
   "id": "2630c821",
   "metadata": {},
   "outputs": [
    {
     "name": "stdout",
     "output_type": "stream",
     "text": [
      "['I am ', 'You are ', 'happy', 'confident']\n",
      "['I am ', 'You are ', 'happy', 'confident']\n",
      "['I am ', 'You are ', 'happy', 'confident']\n",
      "['I am ', 'You are ', 'happy', 'confident']\n"
     ]
    }
   ],
   "source": [
    "who = ['I am ', 'You are ']\n",
    "mood = ['happy', 'confident']\n",
    "for i in who:\n",
    "    for ii in mood:\n",
    "        print(who + mood)"
   ]
  },
  {
   "cell_type": "code",
   "execution_count": 1,
   "id": "a02f6789",
   "metadata": {},
   "outputs": [
    {
     "name": "stdout",
     "output_type": "stream",
     "text": [
      "[('Apples', 5, 1.5), ('Oranges', 3, 2.25), ('Bananas', 4, 0.89)]\n"
     ]
    }
   ],
   "source": [
    "fruits = ['Apples', 'Oranges', 'Bananas']\n",
    "quantities = [5, 3, 4]\n",
    "prices = [1.50, 2.25, 0.89]\n",
    "groceries = zip(fruits, quantities, prices)\n",
    "print(list(groceries))\n"
   ]
  },
  {
   "cell_type": "code",
   "execution_count": null,
   "id": "21d74e03",
   "metadata": {},
   "outputs": [],
   "source": []
  }
 ],
 "metadata": {
  "kernelspec": {
   "display_name": "Python 3",
   "language": "python",
   "name": "python3"
  },
  "language_info": {
   "codemirror_mode": {
    "name": "ipython",
    "version": 3
   },
   "file_extension": ".py",
   "mimetype": "text/x-python",
   "name": "python",
   "nbconvert_exporter": "python",
   "pygments_lexer": "ipython3",
   "version": "3.10.0"
  }
 },
 "nbformat": 4,
 "nbformat_minor": 5
}
