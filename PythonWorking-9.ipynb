{
 "cells": [
  {
   "cell_type": "code",
   "execution_count": 9,
   "metadata": {},
   "outputs": [
    {
     "data": {
      "text/plain": [
       "60"
      ]
     },
     "execution_count": 9,
     "metadata": {},
     "output_type": "execute_result"
    }
   ],
   "source": [
    "import random\n",
    "random.randrange(0,91,5)"
   ]
  },
  {
   "cell_type": "code",
   "execution_count": 10,
   "metadata": {},
   "outputs": [
    {
     "name": "stdout",
     "output_type": "stream",
     "text": [
      "2\n"
     ]
    }
   ],
   "source": [
    "def foo():\n",
    "    try:\n",
    "        return 1\n",
    "    finally:\n",
    "        return 2\n",
    "k = foo()\n",
    "print(k)"
   ]
  },
  {
   "cell_type": "code",
   "execution_count": 11,
   "metadata": {},
   "outputs": [
    {
     "data": {
      "text/plain": [
       "2"
      ]
     },
     "execution_count": 11,
     "metadata": {},
     "output_type": "execute_result"
    }
   ],
   "source": [
    "def foo():\n",
    "    try:\n",
    "        return 1\n",
    "    finally:\n",
    "        return 2\n",
    "foo()"
   ]
  },
  {
   "cell_type": "code",
   "execution_count": 12,
   "metadata": {},
   "outputs": [
    {
     "data": {
      "text/plain": [
       "1"
      ]
     },
     "execution_count": 12,
     "metadata": {},
     "output_type": "execute_result"
    }
   ],
   "source": [
    "def foo():\n",
    "    return 1\n",
    "foo()"
   ]
  },
  {
   "cell_type": "code",
   "execution_count": 13,
   "metadata": {},
   "outputs": [],
   "source": [
    "x=10\n",
    "y=8\n",
    "assert x>y, 'X too small'"
   ]
  },
  {
   "cell_type": "code",
   "execution_count": 14,
   "metadata": {},
   "outputs": [
    {
     "name": "stdout",
     "output_type": "stream",
     "text": [
      "Ahmet'in yaşını giriniz:50\n",
      "Ayşe'nin yaşını giriniz:51\n"
     ]
    },
    {
     "ename": "AssertionError",
     "evalue": "",
     "output_type": "error",
     "traceback": [
      "\u001b[1;31m---------------------------------------------------------------------------\u001b[0m",
      "\u001b[1;31mAssertionError\u001b[0m                            Traceback (most recent call last)",
      "\u001b[1;32m<ipython-input-14-154c6160c0a2>\u001b[0m in \u001b[0;36m<module>\u001b[1;34m\u001b[0m\n\u001b[0;32m      1\u001b[0m \u001b[0mx\u001b[0m\u001b[1;33m=\u001b[0m\u001b[0mint\u001b[0m\u001b[1;33m(\u001b[0m\u001b[0minput\u001b[0m\u001b[1;33m(\u001b[0m\u001b[1;34m\"Ahmet'in yaşını giriniz:\"\u001b[0m\u001b[1;33m)\u001b[0m\u001b[1;33m)\u001b[0m\u001b[1;33m\u001b[0m\u001b[1;33m\u001b[0m\u001b[0m\n\u001b[0;32m      2\u001b[0m \u001b[0my\u001b[0m\u001b[1;33m=\u001b[0m\u001b[0mint\u001b[0m\u001b[1;33m(\u001b[0m\u001b[0minput\u001b[0m\u001b[1;33m(\u001b[0m\u001b[1;34m\"Ayşe'nin yaşını giriniz:\"\u001b[0m\u001b[1;33m)\u001b[0m\u001b[1;33m)\u001b[0m\u001b[1;33m\u001b[0m\u001b[1;33m\u001b[0m\u001b[0m\n\u001b[1;32m----> 3\u001b[1;33m \u001b[1;32massert\u001b[0m \u001b[0mx\u001b[0m\u001b[1;33m>\u001b[0m\u001b[0my\u001b[0m   \u001b[1;31m# Ahmet'in yaşı Ayşe'nin yaşından büyük olmalı.\u001b[0m\u001b[1;33m\u001b[0m\u001b[1;33m\u001b[0m\u001b[0m\n\u001b[0m\u001b[0;32m      4\u001b[0m \u001b[0mprint\u001b[0m\u001b[1;33m(\u001b[0m\u001b[1;34m\"Girilen değerler Programın çalışması için uygundur.\"\u001b[0m\u001b[1;33m)\u001b[0m\u001b[1;33m\u001b[0m\u001b[1;33m\u001b[0m\u001b[0m\n",
      "\u001b[1;31mAssertionError\u001b[0m: "
     ]
    }
   ],
   "source": [
    "x=int(input(\"Ahmet'in yaşını giriniz:\"))\n",
    "y=int(input(\"Ayşe'nin yaşını giriniz:\"))\n",
    "assert x>y   # Ahmet'in yaşı Ayşe'nin yaşından büyük olmalı.\n",
    "print(\"Girilen değerler Programın çalışması için uygundur.\")"
   ]
  },
  {
   "cell_type": "code",
   "execution_count": 15,
   "metadata": {},
   "outputs": [
    {
     "name": "stdout",
     "output_type": "stream",
     "text": [
      "x, y'den büyük olmalı\n"
     ]
    }
   ],
   "source": [
    "x=10\n",
    "y=11\n",
    "try:\n",
    "    assert x>y\n",
    "    print(\"x, y'den büyük olduğu için işleme devam edildi.\")\n",
    "except AssertionError:\n",
    "    print(\"x, y'den büyük olmalı\")"
   ]
  },
  {
   "cell_type": "markdown",
   "metadata": {},
   "source": [
    "# \"ASSERT\" KULLANIMI\n",
    "Genellikle hata oluşturabilecek durumlara karşı kullanılır ve if deyimine benzer şekilde çalışır. \"Assert\" ile ileri sürdüğümüz şart karşılanmadığında \"AssertionError\" uyarısı alırız."
   ]
  },
  {
   "cell_type": "markdown",
   "metadata": {},
   "source": [
    "Genellikle hata oluşturabilecek durumlara karşı kullanılır ve if deyimine benzer şekilde çalışır.\n",
    "Mesela bir programı yazarken kesinlikle sağlanması gereken bir ifademiz var. Böyle durumlarda assert metodunu kullanarak hata olduğunda hatalara çabuk bulabilirız. Uzun ve kompleks programlarda bu metod sayesinde oluşan hatayı hemen yakalayabilir ve düzeltebiliriz. Aksi taktirde hatayı ayıklamak için bütün kodlarımızı baştan aşağıya incelememiz gerekir. İstediğimiz zaman da kolaylıkla devre dışı bırakabiliriz. Diyelim ki if metodunu kullandık; ve programın daha hızlı çalışması ve çok yer kaplamasını istemiyoruz.Ozaman bütün yazdıklarımızı teker teker silmemiz gerekecek ve bunları silerken de yanlışlıkla başka amaçla kullandığımız if else kodlarını silme tehlikesi var. O yüzden hata ayıklamada assert metodu işimizi çok kolaylaştırır."
   ]
  },
  {
   "cell_type": "code",
   "execution_count": 16,
   "metadata": {},
   "outputs": [
    {
     "name": "stdout",
     "output_type": "stream",
     "text": [
      "45 sözlük anahtarı değil.\n",
      "19 sözlük anahtarı değil.\n"
     ]
    }
   ],
   "source": [
    "liste = [0, 2, 45, 11, 19]\n",
    "sözlük = {0: \"a\", 11: \"b\", 34: \"c\", 2: \"d\"}\n",
    "for i in liste:\n",
    "    try:\n",
    "        assert i in sözlük\n",
    "        #İddianın doğru olduğu durumda, bu aralıkta yeni işlemler de tanımlanabilir.\n",
    "    except AssertionError:\n",
    "        print(\"{} sözlük anahtarı değil.\".format(repr(i)))"
   ]
  },
  {
   "cell_type": "code",
   "execution_count": 17,
   "metadata": {},
   "outputs": [
    {
     "name": "stdout",
     "output_type": "stream",
     "text": [
      "'a' karakteri sayı değil.\n"
     ]
    }
   ],
   "source": [
    "def fonksiyon(liste):\n",
    "    for i in liste:\n",
    "        try:\n",
    "            assert str(i).isnumeric()\n",
    "            #İddianın doğru olduğu durumda, bu aralıkta yeni işlemler de tanımlanabilir.\n",
    "        except AssertionError:\n",
    "            print(\"{} karakteri sayı değil.\".format(repr(i)))\n",
    "\n",
    "liste = [1, 2, 3, 4, 5, \"a\"]\n",
    "fonksiyon(liste)"
   ]
  },
  {
   "cell_type": "markdown",
   "metadata": {},
   "source": [
    "Which of the following is not an exception handling keyword in Python?\n",
    "A. try\n",
    "B. except\n",
    "C. accept\n",
    "D. finally"
   ]
  },
  {
   "cell_type": "code",
   "execution_count": null,
   "metadata": {},
   "outputs": [],
   "source": [
    "# What will be the output of the following Python code if we enter 10 as a number?"
   ]
  },
  {
   "cell_type": "code",
   "execution_count": 19,
   "metadata": {
    "slideshow": {
     "slide_type": "notes"
    }
   },
   "outputs": [
    {
     "name": "stdout",
     "output_type": "stream",
     "text": [
      "Enter a number11\n"
     ]
    }
   ],
   "source": [
    "valid = False\n",
    "while not valid:\n",
    "    try:\n",
    "        n=int(input(\"Enter a number\"))\n",
    "        while n%2==0:   \n",
    "            print(\"Bye\")\n",
    "            break    # içteki while döngüsünü durdurmak için break lazım ancak o da except seçeneğini otomatik iptal etmiş olur.\n",
    "    except ValueError:\n",
    "        print(\"Invalid\")\n",
    "    finally:\n",
    "        break"
   ]
  },
  {
   "cell_type": "code",
   "execution_count": 18,
   "metadata": {},
   "outputs": [
    {
     "name": "stdout",
     "output_type": "stream",
     "text": [
      "Ahmet\n"
     ]
    }
   ],
   "source": [
    "x=True\n",
    "while x==True:\n",
    "    print(\"Ahmet\")\n",
    "    x=False"
   ]
  },
  {
   "cell_type": "code",
   "execution_count": 20,
   "metadata": {},
   "outputs": [
    {
     "name": "stdout",
     "output_type": "stream",
     "text": [
      "432\n"
     ]
    }
   ],
   "source": [
    "def f(x, y, z): return x + y + z\n",
    "print(f(2, 30, 400))"
   ]
  },
  {
   "cell_type": "code",
   "execution_count": 21,
   "metadata": {},
   "outputs": [
    {
     "data": {
      "text/plain": [
       "432"
      ]
     },
     "execution_count": 21,
     "metadata": {},
     "output_type": "execute_result"
    }
   ],
   "source": [
    "def f(x, y, z): return x + y + z\n",
    "f(2, 30, 400)"
   ]
  },
  {
   "cell_type": "code",
   "execution_count": 22,
   "metadata": {},
   "outputs": [
    {
     "name": "stdout",
     "output_type": "stream",
     "text": [
      "{0, 1, 4, 9}\n"
     ]
    }
   ],
   "source": [
    "print({a**2 for a in range(4)})"
   ]
  },
  {
   "cell_type": "code",
   "execution_count": 23,
   "metadata": {},
   "outputs": [
    {
     "name": "stdout",
     "output_type": "stream",
     "text": [
      "{0}\n",
      "{0, 1}\n",
      "{0, 1, 4}\n",
      "{0, 1, 4, 9}\n"
     ]
    }
   ],
   "source": [
    "print({a**2 for a in range(1)})  # 0**2\n",
    "print({a**2 for a in range(2)})  # 0**2, 1**2\n",
    "print({a**2 for a in range(3)})  # 0**2, 1**2, 2**2\n",
    "print({a**2 for a in range(4)})  # 0**2, 1**2, 2**2, 3**2"
   ]
  },
  {
   "cell_type": "code",
   "execution_count": 25,
   "metadata": {},
   "outputs": [
    {
     "name": "stdout",
     "output_type": "stream",
     "text": [
      "[10, 23, 56, [78]]\n",
      "[10, 34, 56, [95]]\n"
     ]
    }
   ],
   "source": [
    "import copy             # x = copy.copy(y)        make a shallow copy of y\n",
    "                        # x = copy.deepcopy(y)    make a deep copy of y\n",
    "a=[10,23,56,[78]]\n",
    "b=copy.deepcopy(a)\n",
    "\n",
    "a[3][0]=95\n",
    "a[1]=34\n",
    "\n",
    "print(b)\n",
    "print(a)"
   ]
  },
  {
   "cell_type": "code",
   "execution_count": 26,
   "metadata": {},
   "outputs": [
    {
     "name": "stdout",
     "output_type": "stream",
     "text": [
      "[5, 2, [5, 2, 3, 4], 3, 4]\n"
     ]
    }
   ],
   "source": [
    "c=[5,2,3,4]\n",
    "d=copy.copy(c)\n",
    "c=[5,2,d,3,4]\n",
    "print(c)"
   ]
  },
  {
   "cell_type": "code",
   "execution_count": 8,
   "metadata": {},
   "outputs": [
    {
     "ename": "NameError",
     "evalue": "name 'copy' is not defined",
     "output_type": "error",
     "traceback": [
      "\u001b[1;31m---------------------------------------------------------------------------\u001b[0m",
      "\u001b[1;31mNameError\u001b[0m                                 Traceback (most recent call last)",
      "\u001b[1;32mC:\\Users\\OUZHAN~1\\AppData\\Local\\Temp/ipykernel_23980/4206076189.py\u001b[0m in \u001b[0;36m<module>\u001b[1;34m\u001b[0m\n\u001b[0;32m      1\u001b[0m \u001b[0mc\u001b[0m\u001b[1;33m=\u001b[0m\u001b[1;33m[\u001b[0m\u001b[1;36m5\u001b[0m\u001b[1;33m,\u001b[0m\u001b[1;36m2\u001b[0m\u001b[1;33m,\u001b[0m\u001b[1;33m[\u001b[0m\u001b[1;33m]\u001b[0m\u001b[1;33m,\u001b[0m\u001b[1;36m3\u001b[0m\u001b[1;33m,\u001b[0m\u001b[1;36m4\u001b[0m\u001b[1;33m]\u001b[0m\u001b[1;33m\u001b[0m\u001b[1;33m\u001b[0m\u001b[0m\n\u001b[1;32m----> 2\u001b[1;33m \u001b[0mc\u001b[0m\u001b[1;33m[\u001b[0m\u001b[1;36m2\u001b[0m\u001b[1;33m]\u001b[0m\u001b[1;33m=\u001b[0m\u001b[0mcopy\u001b[0m\u001b[1;33m.\u001b[0m\u001b[0mcopy\u001b[0m\u001b[1;33m(\u001b[0m\u001b[0mc\u001b[0m\u001b[1;33m)\u001b[0m\u001b[1;33m\u001b[0m\u001b[1;33m\u001b[0m\u001b[0m\n\u001b[0m\u001b[0;32m      3\u001b[0m \u001b[0mprint\u001b[0m\u001b[1;33m(\u001b[0m\u001b[0mc\u001b[0m\u001b[1;33m)\u001b[0m\u001b[1;33m\u001b[0m\u001b[1;33m\u001b[0m\u001b[0m\n",
      "\u001b[1;31mNameError\u001b[0m: name 'copy' is not defined"
     ]
    }
   ],
   "source": [
    "c=[5,2,[],3,4]\n",
    "c[2]=copy.copy(c)\n",
    "print(c)"
   ]
  },
  {
   "cell_type": "code",
   "execution_count": 10,
   "metadata": {},
   "outputs": [
    {
     "name": "stdout",
     "output_type": "stream",
     "text": [
      "[1, 3, 5, [55], [[6], [...], [7, 8]], 88, {'ali': 5}]\n"
     ]
    }
   ],
   "source": [
    "a=[1,3,5,[55],[[6],[],[7,8]],88,{\"ali\":5}]\n",
    "b=a\n",
    "a[4][1]=b\n",
    "\n",
    "print(b)"
   ]
  },
  {
   "cell_type": "code",
   "execution_count": 31,
   "metadata": {},
   "outputs": [
    {
     "name": "stdout",
     "output_type": "stream",
     "text": [
      "[1, 3, 5, [55], [[6], [...], [7, 8]], 88, {'ali': 5}]\n",
      "[1, 3, 5, [55], [[6], [1, 3, 5, [55], [...], 88, {'ali': 5}], [7, 8]], 88, {'ali': 5}]\n"
     ]
    }
   ],
   "source": [
    "a=[1,3,5,[55],[[6],[],[7,8]],88,{\"ali\":5}]\n",
    "b=copy.copy(a)\n",
    "a[4][1]=b\n",
    "#b=copy.copy(a)  bu satır da aktif edilirse print(b) ve print(a) aynı sonucu verir.\n",
    "print(b)\n",
    "print(a)"
   ]
  },
  {
   "cell_type": "code",
   "execution_count": 32,
   "metadata": {},
   "outputs": [
    {
     "name": "stdout",
     "output_type": "stream",
     "text": [
      "[1, 3, 5, [55], [[6], [], [...]], 88, {'ali': 5}]\n",
      "[1, 3, 5, [55], [[6], [], [1, 3, 5, [55], [...], 88, {'ali': 5}]], 88, {'ali': 5}]\n"
     ]
    }
   ],
   "source": [
    "a=[1,3,5,[55],[[6],[],[7,8]],88,{\"ali\":5}]\n",
    "b=copy.copy(a)\n",
    "a[4][2]=b\n",
    "print(b)\n",
    "print(a)"
   ]
  },
  {
   "cell_type": "code",
   "execution_count": 33,
   "metadata": {},
   "outputs": [
    {
     "name": "stdout",
     "output_type": "stream",
     "text": [
      "[1, 3, 5, [55], [[6], [1, 3, 5, [55], [[6], [], [7, 8]], 88, {'ali': 5}], [7, 8]], 88, {'ali': 5}]\n"
     ]
    }
   ],
   "source": [
    "a=[1,3,5,[55],[[6],[],[7,8]],88,{\"ali\":5}]\n",
    "b=copy.deepcopy(a)\n",
    "a[4][1]=b\n",
    "print(a)"
   ]
  },
  {
   "cell_type": "code",
   "execution_count": 34,
   "metadata": {},
   "outputs": [
    {
     "name": "stdout",
     "output_type": "stream",
     "text": [
      "[1, 3, 5, [55], [6], [1, 3, 5, [55], [6], [], [7, 8], 88, {'ali': 5}], [7, 8], 88, {'ali': 5}]\n"
     ]
    }
   ],
   "source": [
    "a=[1,3,5,[55],[6],[],[7,8],88,{\"ali\":5}]\n",
    "b=copy.copy(a)\n",
    "a[5]=b\n",
    "print(a)"
   ]
  },
  {
   "cell_type": "code",
   "execution_count": 35,
   "metadata": {},
   "outputs": [
    {
     "name": "stdout",
     "output_type": "stream",
     "text": [
      "[1, 3, 6, 10]\n"
     ]
    }
   ],
   "source": [
    "a=[1,2,3,4]\n",
    "b=[sum(a[0:x+1]) for x in range(0,len(a))]  # [i for i in]\n",
    "print(b)"
   ]
  },
  {
   "cell_type": "code",
   "execution_count": 36,
   "metadata": {},
   "outputs": [
    {
     "name": "stdout",
     "output_type": "stream",
     "text": [
      "[1] 1\n",
      "[1, 2] 3\n",
      "[1, 2, 3] 6\n",
      "[1, 2, 3, 4] 10\n"
     ]
    }
   ],
   "source": [
    "a=[1,2,3,4]\n",
    "b=[print(a[0:x+1], sum(a[0:x+1])) for x in range(0,len(a))]"
   ]
  },
  {
   "cell_type": "code",
   "execution_count": 11,
   "metadata": {},
   "outputs": [
    {
     "name": "stdout",
     "output_type": "stream",
     "text": [
      "abce12\n"
     ]
    }
   ],
   "source": [
    "print('abcefd'.replace('fd', '12'))"
   ]
  },
  {
   "cell_type": "code",
   "execution_count": null,
   "metadata": {},
   "outputs": [],
   "source": []
  }
 ],
 "metadata": {
  "interpreter": {
   "hash": "06cb67651ce969e244f20f184e33f4ddb1106793adfe07cf7ddc131c95c4012f"
  },
  "kernelspec": {
   "display_name": "Python 3.9.6 64-bit",
   "name": "python3"
  },
  "language_info": {
   "codemirror_mode": {
    "name": "ipython",
    "version": 3
   },
   "file_extension": ".py",
   "mimetype": "text/x-python",
   "name": "python",
   "nbconvert_exporter": "python",
   "pygments_lexer": "ipython3",
   "version": "3.10.0"
  }
 },
 "nbformat": 4,
 "nbformat_minor": 5
}
